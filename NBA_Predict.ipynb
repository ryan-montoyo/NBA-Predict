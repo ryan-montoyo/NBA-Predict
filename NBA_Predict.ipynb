{
  "cells": [
    {
      "cell_type": "markdown",
      "metadata": {
        "id": "view-in-github",
        "colab_type": "text"
      },
      "source": [
        "<a href=\"https://colab.research.google.com/github/ryan-montoyo/NBA-Predict/blob/main/NBA_Predict.ipynb\" target=\"_parent\"><img src=\"https://colab.research.google.com/assets/colab-badge.svg\" alt=\"Open In Colab\"/></a>"
      ]
    },
    {
      "cell_type": "markdown",
      "metadata": {
        "id": "3uUP47zeD3Zd"
      },
      "source": [
        "#**NBA Predictive Model**"
      ]
    },
    {
      "cell_type": "markdown",
      "metadata": {
        "id": "21MO3XCNDmmw"
      },
      "source": [
        "##**Load Data**"
      ]
    },
    {
      "cell_type": "code",
      "execution_count": null,
      "metadata": {
        "id": "-BCLtolWCewT"
      },
      "outputs": [],
      "source": [
        "import pandas as pd\n",
        "\n",
        "# read our csv file using pandas\n",
        "\n",
        "df = pd.read_csv('nba_games.csv', index_col = 0)\n",
        "\n"
      ]
    },
    {
      "cell_type": "markdown",
      "metadata": {
        "id": "3fhBC37uEAvJ"
      },
      "source": [
        "##**Data Preparation**"
      ]
    },
    {
      "cell_type": "markdown",
      "metadata": {
        "id": "TFR4Ry6bEJLx"
      },
      "source": [
        "###**Reorganizing Data**"
      ]
    },
    {
      "cell_type": "code",
      "execution_count": null,
      "metadata": {
        "id": "SsSED_CJD-5J"
      },
      "outputs": [],
      "source": [
        "# sort by date for chronology\n",
        "df = df.sort_values('date')\n",
        "\n",
        "#reset indices\n",
        "df = df.reset_index(drop=True)\n",
        "\n",
        "\n",
        "#remove extraneous columns\n",
        "\n",
        "del df['mp.1']\n",
        "del df['mp_opp.1']\n",
        "del df['index_opp']"
      ]
    },
    {
      "cell_type": "code",
      "execution_count": null,
      "metadata": {
        "id": "RPKR_FUsFdVL"
      },
      "outputs": [],
      "source": [
        "# function adds a column to csv called target indicating if the team won or lost the next game (True = won, False = lost)\n",
        "\n",
        "def add_target(team):\n",
        "  team['target'] = team['won'].shift(-1)\n",
        "  return team\n",
        "\n",
        "df = df.groupby('team', group_keys = False).apply(add_target)"
      ]
    },
    {
      "cell_type": "code",
      "execution_count": null,
      "metadata": {
        "id": "GGEXKA_DGGam"
      },
      "outputs": [],
      "source": [
        "df[df['team'] == \"NYK\"]\n"
      ]
    },
    {
      "cell_type": "code",
      "execution_count": null,
      "metadata": {
        "colab": {
          "base_uri": "https://localhost:8080/"
        },
        "id": "22qfeNuKHCl5",
        "outputId": "e0539d30-c07f-45f7-b3c3-5bb067605ce7"
      },
      "outputs": [
        {
          "name": "stderr",
          "output_type": "stream",
          "text": [
            "<ipython-input-34-107db5d2521f>:4: SettingWithCopyWarning: \n",
            "A value is trying to be set on a copy of a slice from a DataFrame\n",
            "\n",
            "See the caveats in the documentation: https://pandas.pydata.org/pandas-docs/stable/user_guide/indexing.html#returning-a-view-versus-a-copy\n",
            "  df[\"target\"][pd.isnull(df['target'])] = 2\n"
          ]
        }
      ],
      "source": [
        "# we are looking for null values under target which indicate no next game\n",
        "# turn nulls into 2 and dont worry about errors that come from converting bool to int\n",
        "\n",
        "df[\"target\"][pd.isnull(df['target'])] = 2\n",
        "\n",
        "df['target'] = df['target'].astype(int, errors=\"ignore\")\n",
        "\n"
      ]
    },
    {
      "cell_type": "code",
      "execution_count": null,
      "metadata": {
        "colab": {
          "base_uri": "https://localhost:8080/"
        },
        "id": "vEXmLn0tISML",
        "outputId": "c5229cfc-17bc-495f-b6da-9dbdcad9ba4d"
      },
      "outputs": [
        {
          "data": {
            "text/plain": [
              "won\n",
              "False    8886\n",
              "True     8886\n",
              "Name: count, dtype: int64"
            ]
          },
          "execution_count": 45,
          "metadata": {},
          "output_type": "execute_result"
        }
      ],
      "source": [
        "df['won'].value_counts()"
      ]
    },
    {
      "cell_type": "code",
      "execution_count": null,
      "metadata": {
        "colab": {
          "base_uri": "https://localhost:8080/"
        },
        "id": "BC9AVl0cIccb",
        "outputId": "231c2112-b073-46ae-a388-8d527066460e"
      },
      "outputs": [
        {
          "data": {
            "text/plain": [
              "target\n",
              "1    8872\n",
              "0    8870\n",
              "2      30\n",
              "Name: count, dtype: int64"
            ]
          },
          "execution_count": 36,
          "metadata": {},
          "output_type": "execute_result"
        }
      ],
      "source": [
        "df['target'].value_counts()"
      ]
    },
    {
      "cell_type": "code",
      "execution_count": null,
      "metadata": {
        "colab": {
          "base_uri": "https://localhost:8080/"
        },
        "id": "zry9xQ0nIkHT",
        "outputId": "c734dc98-a804-434f-a23a-f264d02d4cdb"
      },
      "outputs": [
        {
          "data": {
            "text/plain": [
              "Index(['mp', 'fg', 'fga', 'fg%', '3p', '3pa', '3p%', 'ft', 'fta', 'ft%',\n",
              "       ...\n",
              "       'usg%_max_opp', 'ortg_max_opp', 'drtg_max_opp', 'team_opp', 'total_opp',\n",
              "       'home_opp', 'season', 'date', 'won', 'target'],\n",
              "      dtype='object', length=142)"
            ]
          },
          "execution_count": 44,
          "metadata": {},
          "output_type": "execute_result"
        }
      ],
      "source": [
        "#remove any nulls in our data set\n",
        "nulls = pd.isnull(df)\n",
        "nulls = nulls.sum()\n",
        "nulls = nulls[nulls > 0]\n",
        "\n",
        "valid_columns = df.columns[~df.columns.isin(nulls.index)]\n",
        "\n",
        "valid_columns"
      ]
    },
    {
      "cell_type": "code",
      "execution_count": null,
      "metadata": {
        "id": "gPSUwYobJZnn"
      },
      "outputs": [],
      "source": [
        "# copy with no nulls\n",
        "# data is ready\n",
        "\n",
        "df = df[valid_columns].copy()\n"
      ]
    },
    {
      "cell_type": "markdown",
      "metadata": {
        "id": "iW-kTKV4Jryb"
      },
      "source": [
        "##**Train Model**"
      ]
    },
    {
      "cell_type": "markdown",
      "metadata": {
        "id": "4f9vL78OJ_Ur"
      },
      "source": [
        "###**Feature Selector**"
      ]
    },
    {
      "cell_type": "code",
      "execution_count": null,
      "metadata": {
        "id": "11AAn410JwlK"
      },
      "outputs": [],
      "source": [
        "from sklearn.model_selection import TimeSeriesSplit\n",
        "from sklearn.feature_selection import SequentialFeatureSelector\n",
        "from sklearn.linear_model import RidgeClassifier\n",
        "\n",
        "rr = RidgeClassifier(alpha=1)\n",
        "split = TimeSeriesSplit(n_splits = 3)\n",
        "\n",
        "sfs = SequentialFeatureSelector(rr, n_features_to_select=30, direction = 'forward', cv = split)\n"
      ]
    },
    {
      "cell_type": "code",
      "execution_count": null,
      "metadata": {
        "id": "GGve5rxULRDa"
      },
      "outputs": [],
      "source": [
        "removed_columns = ['season', 'date', 'won', 'target', 'team', 'team_opp']\n",
        "\n",
        "selected_columns = df.columns[~df.columns.isin(removed_columns)]"
      ]
    },
    {
      "cell_type": "code",
      "execution_count": null,
      "metadata": {
        "id": "oHTMzHMbLyBB"
      },
      "outputs": [],
      "source": [
        "from sklearn.preprocessing import MinMaxScaler\n",
        "\n",
        "scaler = MinMaxScaler()\n",
        "df[selected_columns] = scaler.fit_transform(df[selected_columns])\n",
        "\n"
      ]
    },
    {
      "cell_type": "code",
      "execution_count": null,
      "metadata": {
        "colab": {
          "background_save": true
        },
        "id": "FX9JO9FPPHE5",
        "outputId": "e24ba25e-2525-4b5c-b2de-77414623c8e2"
      },
      "outputs": [
        {
          "data": {
            "text/html": [
              "<style>#sk-container-id-1 {color: black;background-color: white;}#sk-container-id-1 pre{padding: 0;}#sk-container-id-1 div.sk-toggleable {background-color: white;}#sk-container-id-1 label.sk-toggleable__label {cursor: pointer;display: block;width: 100%;margin-bottom: 0;padding: 0.3em;box-sizing: border-box;text-align: center;}#sk-container-id-1 label.sk-toggleable__label-arrow:before {content: \"▸\";float: left;margin-right: 0.25em;color: #696969;}#sk-container-id-1 label.sk-toggleable__label-arrow:hover:before {color: black;}#sk-container-id-1 div.sk-estimator:hover label.sk-toggleable__label-arrow:before {color: black;}#sk-container-id-1 div.sk-toggleable__content {max-height: 0;max-width: 0;overflow: hidden;text-align: left;background-color: #f0f8ff;}#sk-container-id-1 div.sk-toggleable__content pre {margin: 0.2em;color: black;border-radius: 0.25em;background-color: #f0f8ff;}#sk-container-id-1 input.sk-toggleable__control:checked~div.sk-toggleable__content {max-height: 200px;max-width: 100%;overflow: auto;}#sk-container-id-1 input.sk-toggleable__control:checked~label.sk-toggleable__label-arrow:before {content: \"▾\";}#sk-container-id-1 div.sk-estimator input.sk-toggleable__control:checked~label.sk-toggleable__label {background-color: #d4ebff;}#sk-container-id-1 div.sk-label input.sk-toggleable__control:checked~label.sk-toggleable__label {background-color: #d4ebff;}#sk-container-id-1 input.sk-hidden--visually {border: 0;clip: rect(1px 1px 1px 1px);clip: rect(1px, 1px, 1px, 1px);height: 1px;margin: -1px;overflow: hidden;padding: 0;position: absolute;width: 1px;}#sk-container-id-1 div.sk-estimator {font-family: monospace;background-color: #f0f8ff;border: 1px dotted black;border-radius: 0.25em;box-sizing: border-box;margin-bottom: 0.5em;}#sk-container-id-1 div.sk-estimator:hover {background-color: #d4ebff;}#sk-container-id-1 div.sk-parallel-item::after {content: \"\";width: 100%;border-bottom: 1px solid gray;flex-grow: 1;}#sk-container-id-1 div.sk-label:hover label.sk-toggleable__label {background-color: #d4ebff;}#sk-container-id-1 div.sk-serial::before {content: \"\";position: absolute;border-left: 1px solid gray;box-sizing: border-box;top: 0;bottom: 0;left: 50%;z-index: 0;}#sk-container-id-1 div.sk-serial {display: flex;flex-direction: column;align-items: center;background-color: white;padding-right: 0.2em;padding-left: 0.2em;position: relative;}#sk-container-id-1 div.sk-item {position: relative;z-index: 1;}#sk-container-id-1 div.sk-parallel {display: flex;align-items: stretch;justify-content: center;background-color: white;position: relative;}#sk-container-id-1 div.sk-item::before, #sk-container-id-1 div.sk-parallel-item::before {content: \"\";position: absolute;border-left: 1px solid gray;box-sizing: border-box;top: 0;bottom: 0;left: 50%;z-index: -1;}#sk-container-id-1 div.sk-parallel-item {display: flex;flex-direction: column;z-index: 1;position: relative;background-color: white;}#sk-container-id-1 div.sk-parallel-item:first-child::after {align-self: flex-end;width: 50%;}#sk-container-id-1 div.sk-parallel-item:last-child::after {align-self: flex-start;width: 50%;}#sk-container-id-1 div.sk-parallel-item:only-child::after {width: 0;}#sk-container-id-1 div.sk-dashed-wrapped {border: 1px dashed gray;margin: 0 0.4em 0.5em 0.4em;box-sizing: border-box;padding-bottom: 0.4em;background-color: white;}#sk-container-id-1 div.sk-label label {font-family: monospace;font-weight: bold;display: inline-block;line-height: 1.2em;}#sk-container-id-1 div.sk-label-container {text-align: center;}#sk-container-id-1 div.sk-container {/* jupyter's `normalize.less` sets `[hidden] { display: none; }` but bootstrap.min.css set `[hidden] { display: none !important; }` so we also need the `!important` here to be able to override the default hidden behavior on the sphinx rendered scikit-learn.org. See: https://github.com/scikit-learn/scikit-learn/issues/21755 */display: inline-block !important;position: relative;}#sk-container-id-1 div.sk-text-repr-fallback {display: none;}</style><div id=\"sk-container-id-1\" class=\"sk-top-container\"><div class=\"sk-text-repr-fallback\"><pre>SequentialFeatureSelector(cv=TimeSeriesSplit(gap=0, max_train_size=None, n_splits=3, test_size=None),\n",
              "                          estimator=RidgeClassifier(alpha=1),\n",
              "                          n_features_to_select=30)</pre><b>In a Jupyter environment, please rerun this cell to show the HTML representation or trust the notebook. <br />On GitHub, the HTML representation is unable to render, please try loading this page with nbviewer.org.</b></div><div class=\"sk-container\" hidden><div class=\"sk-item sk-dashed-wrapped\"><div class=\"sk-label-container\"><div class=\"sk-label sk-toggleable\"><input class=\"sk-toggleable__control sk-hidden--visually\" id=\"sk-estimator-id-1\" type=\"checkbox\" ><label for=\"sk-estimator-id-1\" class=\"sk-toggleable__label sk-toggleable__label-arrow\">SequentialFeatureSelector</label><div class=\"sk-toggleable__content\"><pre>SequentialFeatureSelector(cv=TimeSeriesSplit(gap=0, max_train_size=None, n_splits=3, test_size=None),\n",
              "                          estimator=RidgeClassifier(alpha=1),\n",
              "                          n_features_to_select=30)</pre></div></div></div><div class=\"sk-parallel\"><div class=\"sk-parallel-item\"><div class=\"sk-item\"><div class=\"sk-label-container\"><div class=\"sk-label sk-toggleable\"><input class=\"sk-toggleable__control sk-hidden--visually\" id=\"sk-estimator-id-2\" type=\"checkbox\" ><label for=\"sk-estimator-id-2\" class=\"sk-toggleable__label sk-toggleable__label-arrow\">estimator: RidgeClassifier</label><div class=\"sk-toggleable__content\"><pre>RidgeClassifier(alpha=1)</pre></div></div></div><div class=\"sk-serial\"><div class=\"sk-item\"><div class=\"sk-estimator sk-toggleable\"><input class=\"sk-toggleable__control sk-hidden--visually\" id=\"sk-estimator-id-3\" type=\"checkbox\" ><label for=\"sk-estimator-id-3\" class=\"sk-toggleable__label sk-toggleable__label-arrow\">RidgeClassifier</label><div class=\"sk-toggleable__content\"><pre>RidgeClassifier(alpha=1)</pre></div></div></div></div></div></div></div></div></div></div>"
            ],
            "text/plain": [
              "SequentialFeatureSelector(cv=TimeSeriesSplit(gap=0, max_train_size=None, n_splits=3, test_size=None),\n",
              "                          estimator=RidgeClassifier(alpha=1),\n",
              "                          n_features_to_select=30)"
            ]
          },
          "execution_count": 56,
          "metadata": {},
          "output_type": "execute_result"
        }
      ],
      "source": [
        "sfs.fit(df[selected_columns], df['target'])"
      ]
    },
    {
      "cell_type": "code",
      "source": [
        "predictors = list(selected_columns[sfs.get_support()])\n"
      ],
      "metadata": {
        "id": "8VGlcve7TCG-"
      },
      "execution_count": null,
      "outputs": []
    },
    {
      "cell_type": "code",
      "source": [
        "def backtest(data, model, predictors, start = 2, step = 1):\n",
        "  all_predictions = []\n",
        "\n",
        "  seasons = sorted(data['season'].unique())\n",
        "\n",
        "  for i in range(start, len(seasons), step):\n",
        "    season = seasons[i]\n",
        "\n",
        "    train = data[data['season'] < season]\n",
        "    test = data[data['season'] == season]\n",
        "\n",
        "    model.fit(train[predictors], train['target'])\n",
        "\n",
        "    preds = model.predict(test[predictors])\n",
        "    preds = pd.Series(preds, index = test.index)\n",
        "\n",
        "    combined = pd.concat([test['target'], preds], axis = 1)\n",
        "    combined.columns = ['actual', 'prediction']\n",
        "\n",
        "    all_predictions.append(combined)\n",
        "    return pd.concat(all_predictions)"
      ],
      "metadata": {
        "id": "edDAOWg3TaHJ"
      },
      "execution_count": null,
      "outputs": []
    },
    {
      "cell_type": "code",
      "source": [
        "predictions = backtest(df, rr, predictors)\n",
        "predictions"
      ],
      "metadata": {
        "id": "rCWxCLToUyl-"
      },
      "execution_count": null,
      "outputs": []
    },
    {
      "cell_type": "code",
      "source": [
        "from sklearn.metrics import accuracy_score\n",
        "\n",
        "predictions = predictions[predictions['actual'] !=2]\n",
        "accuracy_score(predictions['actual'], predictions['prediction'])"
      ],
      "metadata": {
        "colab": {
          "base_uri": "https://localhost:8080/"
        },
        "id": "x68MZFV3VQZC",
        "outputId": "e1c274a5-4b86-4801-b0f2-b61db171857f"
      },
      "execution_count": null,
      "outputs": [
        {
          "output_type": "execute_result",
          "data": {
            "text/plain": [
              "0.5487804878048781"
            ]
          },
          "metadata": {},
          "execution_count": 66
        }
      ]
    },
    {
      "cell_type": "markdown",
      "source": [
        "###Improving Model with rolling averages"
      ],
      "metadata": {
        "id": "WTY1Fp31ch3G"
      }
    },
    {
      "cell_type": "code",
      "source": [
        "df.groupby('home').apply(lambda x: x[x['won'] == 1].shape[0] / x.shape[0])\n",
        "\n",
        "df_rolling = df[list(selected_columns) + ['won', 'team', 'season']]\n",
        "\n",
        "df_rolling"
      ],
      "metadata": {
        "colab": {
          "base_uri": "https://localhost:8080/",
          "height": 443
        },
        "id": "C17BjivrWJvF",
        "outputId": "4597b7f8-6630-4d32-b2b3-e521614f1341"
      },
      "execution_count": null,
      "outputs": [
        {
          "output_type": "execute_result",
          "data": {
            "text/plain": [
              "        mp        fg       fga       fg%        3p       3pa       3p%  \\\n",
              "0      0.0  0.363636  0.338235  0.366029  0.206897  0.212121  0.395487   \n",
              "1      0.0  0.431818  0.500000  0.322967  0.310345  0.378788  0.368171   \n",
              "2      0.0  0.409091  0.397059  0.373206  0.241379  0.227273  0.437055   \n",
              "3      0.0  0.500000  0.529412  0.377990  0.310345  0.393939  0.356295   \n",
              "4      0.0  0.409091  0.323529  0.435407  0.275862  0.348485  0.351544   \n",
              "...    ...       ...       ...       ...       ...       ...       ...   \n",
              "17767  0.0  0.340909  0.367647  0.313397  0.517241  0.515152  0.469121   \n",
              "17768  0.0  0.500000  0.411765  0.471292  0.310345  0.545455  0.267221   \n",
              "17769  0.0  0.272727  0.220588  0.344498  0.379310  0.424242  0.408551   \n",
              "17770  0.0  0.340909  0.294118  0.373206  0.379310  0.363636  0.466746   \n",
              "17771  0.0  0.431818  0.470588  0.344498  0.655172  0.636364  0.490499   \n",
              "\n",
              "             ft       fta       ft%  ...  blk%_max_opp  tov%_max_opp  \\\n",
              "0      0.418605  0.412698  0.654609  ...         0.079      0.679245   \n",
              "1      0.209302  0.253968  0.519253  ...         0.140      0.509434   \n",
              "2      0.348837  0.349206  0.645274  ...         0.185      0.270440   \n",
              "3      0.441860  0.333333  0.893816  ...         0.063      0.344864   \n",
              "4      0.255814  0.222222  0.766628  ...         0.047      0.300839   \n",
              "...         ...       ...       ...  ...           ...           ...   \n",
              "17767  0.302326  0.285714  0.693116  ...         0.103      0.401468   \n",
              "17768  0.279070  0.222222  0.844807  ...         0.124      0.423480   \n",
              "17769  0.465116  0.476190  0.623104  ...         0.076      0.300839   \n",
              "17770  0.232558  0.174603  0.903151  ...         0.063      0.300839   \n",
              "17771  0.162791  0.111111  1.000000  ...         0.160      1.000000   \n",
              "\n",
              "       usg%_max_opp  ortg_max_opp  drtg_max_opp  total_opp  home_opp    won  \\\n",
              "0          0.277279      0.554502      0.317647   0.451923       1.0  False   \n",
              "1          0.160462      0.345972      0.317647   0.317308       1.0  False   \n",
              "2          0.088575      0.232227      0.329412   0.298077       0.0   True   \n",
              "3          0.215661      0.530806      0.505882   0.298077       0.0   True   \n",
              "4          0.019255      0.203791      0.317647   0.403846       0.0  False   \n",
              "...             ...           ...           ...        ...       ...    ...   \n",
              "17767      0.182285      0.208531      0.411765   0.413462       0.0  False   \n",
              "17768      0.928113      1.000000      0.411765   0.288462       0.0   True   \n",
              "17769      0.181001      0.630332      0.352941   0.384615       1.0  False   \n",
              "17770      0.120668      0.459716      0.400000   0.375000       0.0  False   \n",
              "17771      0.263158      0.246445      0.576471   0.250000       1.0   True   \n",
              "\n",
              "       team  season  \n",
              "0       NOP    2016  \n",
              "1       CLE    2016  \n",
              "2       CHI    2016  \n",
              "3       GSW    2016  \n",
              "4       ATL    2016  \n",
              "...     ...     ...  \n",
              "17767   BOS    2022  \n",
              "17768   GSW    2022  \n",
              "17769   BOS    2022  \n",
              "17770   BOS    2022  \n",
              "17771   GSW    2022  \n",
              "\n",
              "[17772 rows x 139 columns]"
            ],
            "text/html": [
              "\n",
              "  <div id=\"df-b849940d-15b1-4fa8-b16a-9034dd5afc84\" class=\"colab-df-container\">\n",
              "    <div>\n",
              "<style scoped>\n",
              "    .dataframe tbody tr th:only-of-type {\n",
              "        vertical-align: middle;\n",
              "    }\n",
              "\n",
              "    .dataframe tbody tr th {\n",
              "        vertical-align: top;\n",
              "    }\n",
              "\n",
              "    .dataframe thead th {\n",
              "        text-align: right;\n",
              "    }\n",
              "</style>\n",
              "<table border=\"1\" class=\"dataframe\">\n",
              "  <thead>\n",
              "    <tr style=\"text-align: right;\">\n",
              "      <th></th>\n",
              "      <th>mp</th>\n",
              "      <th>fg</th>\n",
              "      <th>fga</th>\n",
              "      <th>fg%</th>\n",
              "      <th>3p</th>\n",
              "      <th>3pa</th>\n",
              "      <th>3p%</th>\n",
              "      <th>ft</th>\n",
              "      <th>fta</th>\n",
              "      <th>ft%</th>\n",
              "      <th>...</th>\n",
              "      <th>blk%_max_opp</th>\n",
              "      <th>tov%_max_opp</th>\n",
              "      <th>usg%_max_opp</th>\n",
              "      <th>ortg_max_opp</th>\n",
              "      <th>drtg_max_opp</th>\n",
              "      <th>total_opp</th>\n",
              "      <th>home_opp</th>\n",
              "      <th>won</th>\n",
              "      <th>team</th>\n",
              "      <th>season</th>\n",
              "    </tr>\n",
              "  </thead>\n",
              "  <tbody>\n",
              "    <tr>\n",
              "      <th>0</th>\n",
              "      <td>0.0</td>\n",
              "      <td>0.363636</td>\n",
              "      <td>0.338235</td>\n",
              "      <td>0.366029</td>\n",
              "      <td>0.206897</td>\n",
              "      <td>0.212121</td>\n",
              "      <td>0.395487</td>\n",
              "      <td>0.418605</td>\n",
              "      <td>0.412698</td>\n",
              "      <td>0.654609</td>\n",
              "      <td>...</td>\n",
              "      <td>0.079</td>\n",
              "      <td>0.679245</td>\n",
              "      <td>0.277279</td>\n",
              "      <td>0.554502</td>\n",
              "      <td>0.317647</td>\n",
              "      <td>0.451923</td>\n",
              "      <td>1.0</td>\n",
              "      <td>False</td>\n",
              "      <td>NOP</td>\n",
              "      <td>2016</td>\n",
              "    </tr>\n",
              "    <tr>\n",
              "      <th>1</th>\n",
              "      <td>0.0</td>\n",
              "      <td>0.431818</td>\n",
              "      <td>0.500000</td>\n",
              "      <td>0.322967</td>\n",
              "      <td>0.310345</td>\n",
              "      <td>0.378788</td>\n",
              "      <td>0.368171</td>\n",
              "      <td>0.209302</td>\n",
              "      <td>0.253968</td>\n",
              "      <td>0.519253</td>\n",
              "      <td>...</td>\n",
              "      <td>0.140</td>\n",
              "      <td>0.509434</td>\n",
              "      <td>0.160462</td>\n",
              "      <td>0.345972</td>\n",
              "      <td>0.317647</td>\n",
              "      <td>0.317308</td>\n",
              "      <td>1.0</td>\n",
              "      <td>False</td>\n",
              "      <td>CLE</td>\n",
              "      <td>2016</td>\n",
              "    </tr>\n",
              "    <tr>\n",
              "      <th>2</th>\n",
              "      <td>0.0</td>\n",
              "      <td>0.409091</td>\n",
              "      <td>0.397059</td>\n",
              "      <td>0.373206</td>\n",
              "      <td>0.241379</td>\n",
              "      <td>0.227273</td>\n",
              "      <td>0.437055</td>\n",
              "      <td>0.348837</td>\n",
              "      <td>0.349206</td>\n",
              "      <td>0.645274</td>\n",
              "      <td>...</td>\n",
              "      <td>0.185</td>\n",
              "      <td>0.270440</td>\n",
              "      <td>0.088575</td>\n",
              "      <td>0.232227</td>\n",
              "      <td>0.329412</td>\n",
              "      <td>0.298077</td>\n",
              "      <td>0.0</td>\n",
              "      <td>True</td>\n",
              "      <td>CHI</td>\n",
              "      <td>2016</td>\n",
              "    </tr>\n",
              "    <tr>\n",
              "      <th>3</th>\n",
              "      <td>0.0</td>\n",
              "      <td>0.500000</td>\n",
              "      <td>0.529412</td>\n",
              "      <td>0.377990</td>\n",
              "      <td>0.310345</td>\n",
              "      <td>0.393939</td>\n",
              "      <td>0.356295</td>\n",
              "      <td>0.441860</td>\n",
              "      <td>0.333333</td>\n",
              "      <td>0.893816</td>\n",
              "      <td>...</td>\n",
              "      <td>0.063</td>\n",
              "      <td>0.344864</td>\n",
              "      <td>0.215661</td>\n",
              "      <td>0.530806</td>\n",
              "      <td>0.505882</td>\n",
              "      <td>0.298077</td>\n",
              "      <td>0.0</td>\n",
              "      <td>True</td>\n",
              "      <td>GSW</td>\n",
              "      <td>2016</td>\n",
              "    </tr>\n",
              "    <tr>\n",
              "      <th>4</th>\n",
              "      <td>0.0</td>\n",
              "      <td>0.409091</td>\n",
              "      <td>0.323529</td>\n",
              "      <td>0.435407</td>\n",
              "      <td>0.275862</td>\n",
              "      <td>0.348485</td>\n",
              "      <td>0.351544</td>\n",
              "      <td>0.255814</td>\n",
              "      <td>0.222222</td>\n",
              "      <td>0.766628</td>\n",
              "      <td>...</td>\n",
              "      <td>0.047</td>\n",
              "      <td>0.300839</td>\n",
              "      <td>0.019255</td>\n",
              "      <td>0.203791</td>\n",
              "      <td>0.317647</td>\n",
              "      <td>0.403846</td>\n",
              "      <td>0.0</td>\n",
              "      <td>False</td>\n",
              "      <td>ATL</td>\n",
              "      <td>2016</td>\n",
              "    </tr>\n",
              "    <tr>\n",
              "      <th>...</th>\n",
              "      <td>...</td>\n",
              "      <td>...</td>\n",
              "      <td>...</td>\n",
              "      <td>...</td>\n",
              "      <td>...</td>\n",
              "      <td>...</td>\n",
              "      <td>...</td>\n",
              "      <td>...</td>\n",
              "      <td>...</td>\n",
              "      <td>...</td>\n",
              "      <td>...</td>\n",
              "      <td>...</td>\n",
              "      <td>...</td>\n",
              "      <td>...</td>\n",
              "      <td>...</td>\n",
              "      <td>...</td>\n",
              "      <td>...</td>\n",
              "      <td>...</td>\n",
              "      <td>...</td>\n",
              "      <td>...</td>\n",
              "      <td>...</td>\n",
              "    </tr>\n",
              "    <tr>\n",
              "      <th>17767</th>\n",
              "      <td>0.0</td>\n",
              "      <td>0.340909</td>\n",
              "      <td>0.367647</td>\n",
              "      <td>0.313397</td>\n",
              "      <td>0.517241</td>\n",
              "      <td>0.515152</td>\n",
              "      <td>0.469121</td>\n",
              "      <td>0.302326</td>\n",
              "      <td>0.285714</td>\n",
              "      <td>0.693116</td>\n",
              "      <td>...</td>\n",
              "      <td>0.103</td>\n",
              "      <td>0.401468</td>\n",
              "      <td>0.182285</td>\n",
              "      <td>0.208531</td>\n",
              "      <td>0.411765</td>\n",
              "      <td>0.413462</td>\n",
              "      <td>0.0</td>\n",
              "      <td>False</td>\n",
              "      <td>BOS</td>\n",
              "      <td>2022</td>\n",
              "    </tr>\n",
              "    <tr>\n",
              "      <th>17768</th>\n",
              "      <td>0.0</td>\n",
              "      <td>0.500000</td>\n",
              "      <td>0.411765</td>\n",
              "      <td>0.471292</td>\n",
              "      <td>0.310345</td>\n",
              "      <td>0.545455</td>\n",
              "      <td>0.267221</td>\n",
              "      <td>0.279070</td>\n",
              "      <td>0.222222</td>\n",
              "      <td>0.844807</td>\n",
              "      <td>...</td>\n",
              "      <td>0.124</td>\n",
              "      <td>0.423480</td>\n",
              "      <td>0.928113</td>\n",
              "      <td>1.000000</td>\n",
              "      <td>0.411765</td>\n",
              "      <td>0.288462</td>\n",
              "      <td>0.0</td>\n",
              "      <td>True</td>\n",
              "      <td>GSW</td>\n",
              "      <td>2022</td>\n",
              "    </tr>\n",
              "    <tr>\n",
              "      <th>17769</th>\n",
              "      <td>0.0</td>\n",
              "      <td>0.272727</td>\n",
              "      <td>0.220588</td>\n",
              "      <td>0.344498</td>\n",
              "      <td>0.379310</td>\n",
              "      <td>0.424242</td>\n",
              "      <td>0.408551</td>\n",
              "      <td>0.465116</td>\n",
              "      <td>0.476190</td>\n",
              "      <td>0.623104</td>\n",
              "      <td>...</td>\n",
              "      <td>0.076</td>\n",
              "      <td>0.300839</td>\n",
              "      <td>0.181001</td>\n",
              "      <td>0.630332</td>\n",
              "      <td>0.352941</td>\n",
              "      <td>0.384615</td>\n",
              "      <td>1.0</td>\n",
              "      <td>False</td>\n",
              "      <td>BOS</td>\n",
              "      <td>2022</td>\n",
              "    </tr>\n",
              "    <tr>\n",
              "      <th>17770</th>\n",
              "      <td>0.0</td>\n",
              "      <td>0.340909</td>\n",
              "      <td>0.294118</td>\n",
              "      <td>0.373206</td>\n",
              "      <td>0.379310</td>\n",
              "      <td>0.363636</td>\n",
              "      <td>0.466746</td>\n",
              "      <td>0.232558</td>\n",
              "      <td>0.174603</td>\n",
              "      <td>0.903151</td>\n",
              "      <td>...</td>\n",
              "      <td>0.063</td>\n",
              "      <td>0.300839</td>\n",
              "      <td>0.120668</td>\n",
              "      <td>0.459716</td>\n",
              "      <td>0.400000</td>\n",
              "      <td>0.375000</td>\n",
              "      <td>0.0</td>\n",
              "      <td>False</td>\n",
              "      <td>BOS</td>\n",
              "      <td>2022</td>\n",
              "    </tr>\n",
              "    <tr>\n",
              "      <th>17771</th>\n",
              "      <td>0.0</td>\n",
              "      <td>0.431818</td>\n",
              "      <td>0.470588</td>\n",
              "      <td>0.344498</td>\n",
              "      <td>0.655172</td>\n",
              "      <td>0.636364</td>\n",
              "      <td>0.490499</td>\n",
              "      <td>0.162791</td>\n",
              "      <td>0.111111</td>\n",
              "      <td>1.000000</td>\n",
              "      <td>...</td>\n",
              "      <td>0.160</td>\n",
              "      <td>1.000000</td>\n",
              "      <td>0.263158</td>\n",
              "      <td>0.246445</td>\n",
              "      <td>0.576471</td>\n",
              "      <td>0.250000</td>\n",
              "      <td>1.0</td>\n",
              "      <td>True</td>\n",
              "      <td>GSW</td>\n",
              "      <td>2022</td>\n",
              "    </tr>\n",
              "  </tbody>\n",
              "</table>\n",
              "<p>17772 rows × 139 columns</p>\n",
              "</div>\n",
              "    <div class=\"colab-df-buttons\">\n",
              "\n",
              "  <div class=\"colab-df-container\">\n",
              "    <button class=\"colab-df-convert\" onclick=\"convertToInteractive('df-b849940d-15b1-4fa8-b16a-9034dd5afc84')\"\n",
              "            title=\"Convert this dataframe to an interactive table.\"\n",
              "            style=\"display:none;\">\n",
              "\n",
              "  <svg xmlns=\"http://www.w3.org/2000/svg\" height=\"24px\" viewBox=\"0 -960 960 960\">\n",
              "    <path d=\"M120-120v-720h720v720H120Zm60-500h600v-160H180v160Zm220 220h160v-160H400v160Zm0 220h160v-160H400v160ZM180-400h160v-160H180v160Zm440 0h160v-160H620v160ZM180-180h160v-160H180v160Zm440 0h160v-160H620v160Z\"/>\n",
              "  </svg>\n",
              "    </button>\n",
              "\n",
              "  <style>\n",
              "    .colab-df-container {\n",
              "      display:flex;\n",
              "      gap: 12px;\n",
              "    }\n",
              "\n",
              "    .colab-df-convert {\n",
              "      background-color: #E8F0FE;\n",
              "      border: none;\n",
              "      border-radius: 50%;\n",
              "      cursor: pointer;\n",
              "      display: none;\n",
              "      fill: #1967D2;\n",
              "      height: 32px;\n",
              "      padding: 0 0 0 0;\n",
              "      width: 32px;\n",
              "    }\n",
              "\n",
              "    .colab-df-convert:hover {\n",
              "      background-color: #E2EBFA;\n",
              "      box-shadow: 0px 1px 2px rgba(60, 64, 67, 0.3), 0px 1px 3px 1px rgba(60, 64, 67, 0.15);\n",
              "      fill: #174EA6;\n",
              "    }\n",
              "\n",
              "    .colab-df-buttons div {\n",
              "      margin-bottom: 4px;\n",
              "    }\n",
              "\n",
              "    [theme=dark] .colab-df-convert {\n",
              "      background-color: #3B4455;\n",
              "      fill: #D2E3FC;\n",
              "    }\n",
              "\n",
              "    [theme=dark] .colab-df-convert:hover {\n",
              "      background-color: #434B5C;\n",
              "      box-shadow: 0px 1px 3px 1px rgba(0, 0, 0, 0.15);\n",
              "      filter: drop-shadow(0px 1px 2px rgba(0, 0, 0, 0.3));\n",
              "      fill: #FFFFFF;\n",
              "    }\n",
              "  </style>\n",
              "\n",
              "    <script>\n",
              "      const buttonEl =\n",
              "        document.querySelector('#df-b849940d-15b1-4fa8-b16a-9034dd5afc84 button.colab-df-convert');\n",
              "      buttonEl.style.display =\n",
              "        google.colab.kernel.accessAllowed ? 'block' : 'none';\n",
              "\n",
              "      async function convertToInteractive(key) {\n",
              "        const element = document.querySelector('#df-b849940d-15b1-4fa8-b16a-9034dd5afc84');\n",
              "        const dataTable =\n",
              "          await google.colab.kernel.invokeFunction('convertToInteractive',\n",
              "                                                    [key], {});\n",
              "        if (!dataTable) return;\n",
              "\n",
              "        const docLinkHtml = 'Like what you see? Visit the ' +\n",
              "          '<a target=\"_blank\" href=https://colab.research.google.com/notebooks/data_table.ipynb>data table notebook</a>'\n",
              "          + ' to learn more about interactive tables.';\n",
              "        element.innerHTML = '';\n",
              "        dataTable['output_type'] = 'display_data';\n",
              "        await google.colab.output.renderOutput(dataTable, element);\n",
              "        const docLink = document.createElement('div');\n",
              "        docLink.innerHTML = docLinkHtml;\n",
              "        element.appendChild(docLink);\n",
              "      }\n",
              "    </script>\n",
              "  </div>\n",
              "\n",
              "\n",
              "<div id=\"df-7fa0ea21-8da0-46ca-96a9-4129a69fdaad\">\n",
              "  <button class=\"colab-df-quickchart\" onclick=\"quickchart('df-7fa0ea21-8da0-46ca-96a9-4129a69fdaad')\"\n",
              "            title=\"Suggest charts\"\n",
              "            style=\"display:none;\">\n",
              "\n",
              "<svg xmlns=\"http://www.w3.org/2000/svg\" height=\"24px\"viewBox=\"0 0 24 24\"\n",
              "     width=\"24px\">\n",
              "    <g>\n",
              "        <path d=\"M19 3H5c-1.1 0-2 .9-2 2v14c0 1.1.9 2 2 2h14c1.1 0 2-.9 2-2V5c0-1.1-.9-2-2-2zM9 17H7v-7h2v7zm4 0h-2V7h2v10zm4 0h-2v-4h2v4z\"/>\n",
              "    </g>\n",
              "</svg>\n",
              "  </button>\n",
              "\n",
              "<style>\n",
              "  .colab-df-quickchart {\n",
              "      --bg-color: #E8F0FE;\n",
              "      --fill-color: #1967D2;\n",
              "      --hover-bg-color: #E2EBFA;\n",
              "      --hover-fill-color: #174EA6;\n",
              "      --disabled-fill-color: #AAA;\n",
              "      --disabled-bg-color: #DDD;\n",
              "  }\n",
              "\n",
              "  [theme=dark] .colab-df-quickchart {\n",
              "      --bg-color: #3B4455;\n",
              "      --fill-color: #D2E3FC;\n",
              "      --hover-bg-color: #434B5C;\n",
              "      --hover-fill-color: #FFFFFF;\n",
              "      --disabled-bg-color: #3B4455;\n",
              "      --disabled-fill-color: #666;\n",
              "  }\n",
              "\n",
              "  .colab-df-quickchart {\n",
              "    background-color: var(--bg-color);\n",
              "    border: none;\n",
              "    border-radius: 50%;\n",
              "    cursor: pointer;\n",
              "    display: none;\n",
              "    fill: var(--fill-color);\n",
              "    height: 32px;\n",
              "    padding: 0;\n",
              "    width: 32px;\n",
              "  }\n",
              "\n",
              "  .colab-df-quickchart:hover {\n",
              "    background-color: var(--hover-bg-color);\n",
              "    box-shadow: 0 1px 2px rgba(60, 64, 67, 0.3), 0 1px 3px 1px rgba(60, 64, 67, 0.15);\n",
              "    fill: var(--button-hover-fill-color);\n",
              "  }\n",
              "\n",
              "  .colab-df-quickchart-complete:disabled,\n",
              "  .colab-df-quickchart-complete:disabled:hover {\n",
              "    background-color: var(--disabled-bg-color);\n",
              "    fill: var(--disabled-fill-color);\n",
              "    box-shadow: none;\n",
              "  }\n",
              "\n",
              "  .colab-df-spinner {\n",
              "    border: 2px solid var(--fill-color);\n",
              "    border-color: transparent;\n",
              "    border-bottom-color: var(--fill-color);\n",
              "    animation:\n",
              "      spin 1s steps(1) infinite;\n",
              "  }\n",
              "\n",
              "  @keyframes spin {\n",
              "    0% {\n",
              "      border-color: transparent;\n",
              "      border-bottom-color: var(--fill-color);\n",
              "      border-left-color: var(--fill-color);\n",
              "    }\n",
              "    20% {\n",
              "      border-color: transparent;\n",
              "      border-left-color: var(--fill-color);\n",
              "      border-top-color: var(--fill-color);\n",
              "    }\n",
              "    30% {\n",
              "      border-color: transparent;\n",
              "      border-left-color: var(--fill-color);\n",
              "      border-top-color: var(--fill-color);\n",
              "      border-right-color: var(--fill-color);\n",
              "    }\n",
              "    40% {\n",
              "      border-color: transparent;\n",
              "      border-right-color: var(--fill-color);\n",
              "      border-top-color: var(--fill-color);\n",
              "    }\n",
              "    60% {\n",
              "      border-color: transparent;\n",
              "      border-right-color: var(--fill-color);\n",
              "    }\n",
              "    80% {\n",
              "      border-color: transparent;\n",
              "      border-right-color: var(--fill-color);\n",
              "      border-bottom-color: var(--fill-color);\n",
              "    }\n",
              "    90% {\n",
              "      border-color: transparent;\n",
              "      border-bottom-color: var(--fill-color);\n",
              "    }\n",
              "  }\n",
              "</style>\n",
              "\n",
              "  <script>\n",
              "    async function quickchart(key) {\n",
              "      const quickchartButtonEl =\n",
              "        document.querySelector('#' + key + ' button');\n",
              "      quickchartButtonEl.disabled = true;  // To prevent multiple clicks.\n",
              "      quickchartButtonEl.classList.add('colab-df-spinner');\n",
              "      try {\n",
              "        const charts = await google.colab.kernel.invokeFunction(\n",
              "            'suggestCharts', [key], {});\n",
              "      } catch (error) {\n",
              "        console.error('Error during call to suggestCharts:', error);\n",
              "      }\n",
              "      quickchartButtonEl.classList.remove('colab-df-spinner');\n",
              "      quickchartButtonEl.classList.add('colab-df-quickchart-complete');\n",
              "    }\n",
              "    (() => {\n",
              "      let quickchartButtonEl =\n",
              "        document.querySelector('#df-7fa0ea21-8da0-46ca-96a9-4129a69fdaad button');\n",
              "      quickchartButtonEl.style.display =\n",
              "        google.colab.kernel.accessAllowed ? 'block' : 'none';\n",
              "    })();\n",
              "  </script>\n",
              "</div>\n",
              "\n",
              "  <div id=\"id_3f73746a-859a-49aa-aa49-b23c7f5d425d\">\n",
              "    <style>\n",
              "      .colab-df-generate {\n",
              "        background-color: #E8F0FE;\n",
              "        border: none;\n",
              "        border-radius: 50%;\n",
              "        cursor: pointer;\n",
              "        display: none;\n",
              "        fill: #1967D2;\n",
              "        height: 32px;\n",
              "        padding: 0 0 0 0;\n",
              "        width: 32px;\n",
              "      }\n",
              "\n",
              "      .colab-df-generate:hover {\n",
              "        background-color: #E2EBFA;\n",
              "        box-shadow: 0px 1px 2px rgba(60, 64, 67, 0.3), 0px 1px 3px 1px rgba(60, 64, 67, 0.15);\n",
              "        fill: #174EA6;\n",
              "      }\n",
              "\n",
              "      [theme=dark] .colab-df-generate {\n",
              "        background-color: #3B4455;\n",
              "        fill: #D2E3FC;\n",
              "      }\n",
              "\n",
              "      [theme=dark] .colab-df-generate:hover {\n",
              "        background-color: #434B5C;\n",
              "        box-shadow: 0px 1px 3px 1px rgba(0, 0, 0, 0.15);\n",
              "        filter: drop-shadow(0px 1px 2px rgba(0, 0, 0, 0.3));\n",
              "        fill: #FFFFFF;\n",
              "      }\n",
              "    </style>\n",
              "    <button class=\"colab-df-generate\" onclick=\"generateWithVariable('df_rolling')\"\n",
              "            title=\"Generate code using this dataframe.\"\n",
              "            style=\"display:none;\">\n",
              "\n",
              "  <svg xmlns=\"http://www.w3.org/2000/svg\" height=\"24px\"viewBox=\"0 0 24 24\"\n",
              "       width=\"24px\">\n",
              "    <path d=\"M7,19H8.4L18.45,9,17,7.55,7,17.6ZM5,21V16.75L18.45,3.32a2,2,0,0,1,2.83,0l1.4,1.43a1.91,1.91,0,0,1,.58,1.4,1.91,1.91,0,0,1-.58,1.4L9.25,21ZM18.45,9,17,7.55Zm-12,3A5.31,5.31,0,0,0,4.9,8.1,5.31,5.31,0,0,0,1,6.5,5.31,5.31,0,0,0,4.9,4.9,5.31,5.31,0,0,0,6.5,1,5.31,5.31,0,0,0,8.1,4.9,5.31,5.31,0,0,0,12,6.5,5.46,5.46,0,0,0,6.5,12Z\"/>\n",
              "  </svg>\n",
              "    </button>\n",
              "    <script>\n",
              "      (() => {\n",
              "      const buttonEl =\n",
              "        document.querySelector('#id_3f73746a-859a-49aa-aa49-b23c7f5d425d button.colab-df-generate');\n",
              "      buttonEl.style.display =\n",
              "        google.colab.kernel.accessAllowed ? 'block' : 'none';\n",
              "\n",
              "      buttonEl.onclick = () => {\n",
              "        google.colab.notebook.generateWithVariable('df_rolling');\n",
              "      }\n",
              "      })();\n",
              "    </script>\n",
              "  </div>\n",
              "\n",
              "    </div>\n",
              "  </div>\n"
            ],
            "application/vnd.google.colaboratory.intrinsic+json": {
              "type": "dataframe",
              "variable_name": "df_rolling"
            }
          },
          "metadata": {},
          "execution_count": 73
        }
      ]
    },
    {
      "cell_type": "code",
      "source": [
        "def find_team_averages(team):\n",
        "  rolling = team.rolling(10).mean()\n",
        "  return rolling\n",
        "\n",
        "df_rolling = df_rolling.groupby(['team', 'season'], group_keys=False).apply(find_team_averages)\n",
        "df_rolling\n",
        "\n",
        "#38:48"
      ],
      "metadata": {
        "colab": {
          "base_uri": "https://localhost:8080/",
          "height": 315
        },
        "id": "i1nh3iNRcrlO",
        "outputId": "a75848ae-22e1-4818-c2de-f78c01912233"
      },
      "execution_count": null,
      "outputs": [
        {
          "output_type": "error",
          "ename": "AttributeError",
          "evalue": "'DataFrameGroupBy' object has no attribute 'groupby'",
          "traceback": [
            "\u001b[0;31m---------------------------------------------------------------------------\u001b[0m",
            "\u001b[0;31mAttributeError\u001b[0m                            Traceback (most recent call last)",
            "\u001b[0;32m<ipython-input-79-44f66cbfa956>\u001b[0m in \u001b[0;36m<cell line: 5>\u001b[0;34m()\u001b[0m\n\u001b[1;32m      3\u001b[0m   \u001b[0;32mreturn\u001b[0m \u001b[0mrolling\u001b[0m\u001b[0;34m\u001b[0m\u001b[0;34m\u001b[0m\u001b[0m\n\u001b[1;32m      4\u001b[0m \u001b[0;34m\u001b[0m\u001b[0m\n\u001b[0;32m----> 5\u001b[0;31m \u001b[0mdf_rolling\u001b[0m \u001b[0;34m=\u001b[0m \u001b[0mdf_rolling\u001b[0m\u001b[0;34m.\u001b[0m\u001b[0mgroupby\u001b[0m\u001b[0;34m(\u001b[0m\u001b[0;34m[\u001b[0m\u001b[0;34m'team'\u001b[0m\u001b[0;34m,\u001b[0m \u001b[0;34m'season'\u001b[0m\u001b[0;34m]\u001b[0m\u001b[0;34m,\u001b[0m \u001b[0mgroup_keys\u001b[0m\u001b[0;34m=\u001b[0m\u001b[0;32mFalse\u001b[0m\u001b[0;34m)\u001b[0m\u001b[0;34m.\u001b[0m\u001b[0mapply\u001b[0m\u001b[0;34m(\u001b[0m\u001b[0mfind_team_averages\u001b[0m\u001b[0;34m)\u001b[0m\u001b[0;34m\u001b[0m\u001b[0;34m\u001b[0m\u001b[0m\n\u001b[0m\u001b[1;32m      6\u001b[0m \u001b[0mdf_rolling\u001b[0m\u001b[0;34m\u001b[0m\u001b[0;34m\u001b[0m\u001b[0m\n",
            "\u001b[0;32m/usr/local/lib/python3.10/dist-packages/pandas/core/groupby/groupby.py\u001b[0m in \u001b[0;36m__getattr__\u001b[0;34m(self, attr)\u001b[0m\n\u001b[1;32m    950\u001b[0m             \u001b[0;32mreturn\u001b[0m \u001b[0mself\u001b[0m\u001b[0;34m[\u001b[0m\u001b[0mattr\u001b[0m\u001b[0;34m]\u001b[0m\u001b[0;34m\u001b[0m\u001b[0;34m\u001b[0m\u001b[0m\n\u001b[1;32m    951\u001b[0m \u001b[0;34m\u001b[0m\u001b[0m\n\u001b[0;32m--> 952\u001b[0;31m         raise AttributeError(\n\u001b[0m\u001b[1;32m    953\u001b[0m             \u001b[0;34mf\"'{type(self).__name__}' object has no attribute '{attr}'\"\u001b[0m\u001b[0;34m\u001b[0m\u001b[0;34m\u001b[0m\u001b[0m\n\u001b[1;32m    954\u001b[0m         )\n",
            "\u001b[0;31mAttributeError\u001b[0m: 'DataFrameGroupBy' object has no attribute 'groupby'"
          ]
        }
      ]
    }
  ],
  "metadata": {
    "colab": {
      "provenance": [],
      "authorship_tag": "ABX9TyM0qKqeDUrtwAsxx+n2Bc9g",
      "include_colab_link": true
    },
    "kernelspec": {
      "display_name": "Python 3",
      "name": "python3"
    },
    "language_info": {
      "name": "python"
    }
  },
  "nbformat": 4,
  "nbformat_minor": 0
}